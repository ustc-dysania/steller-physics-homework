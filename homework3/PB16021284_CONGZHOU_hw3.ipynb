{
 "cells": [
  {
   "cell_type": "markdown",
   "metadata": {},
   "source": [
    "# 第三次编程作业"
   ]
  },
  {
   "cell_type": "markdown",
   "metadata": {},
   "source": [
    "$\\mathscr{S}\\propto exp(-\\frac{\\pi Z_{i}Z_{j}e^2}{\\varepsilon_{0}hv})exp(-\\frac{m_{g}v^2}{2kT})\\qquad m_{g}=\\frac{m_{g,i}m_{g,j}}{m_{g,i}+m_{g,j}}$  \n",
    "伽莫夫峰值速率解析解$v_{p}=(\\frac{\\pi Z_{i}Z_{j}e^{2}KT}{\\varepsilon hm_{g}})^{\\frac{1}{3}}$"
   ]
  },
  {
   "cell_type": "code",
   "execution_count": 1,
   "metadata": {},
   "outputs": [],
   "source": [
    "import numpy as np\n",
    "import matplotlib.pyplot as plt"
   ]
  },
  {
   "cell_type": "code",
   "execution_count": 2,
   "metadata": {},
   "outputs": [],
   "source": [
    "c = 3e10\n",
    "Z_i = 1\n",
    "Z_j = 1\n",
    "m_p = 1.67e-24\n",
    "m_gi = m_p\n",
    "m_gj = m_p\n",
    "epsilon = 1./4/np.pi\n",
    "h = 6.626e-27\n",
    "k = 1.381e-16\n",
    "e = 4.80e-10\n",
    "T = 1.0e7\n",
    "m_g = m_gi*m_gj/(m_gi+m_gj)\n",
    "\n",
    "a = -np.pi*Z_i*Z_j*(e**2)/(epsilon*h)\n",
    "b = -m_g/(2*k*T)\n",
    "v_p = np.power(a/2/b,1/3)"
   ]
  },
  {
   "cell_type": "code",
   "execution_count": 3,
   "metadata": {},
   "outputs": [],
   "source": [
    "v = np.linspace(0.01,0.01*c,10**8)\n",
    "S = np.zeros(10**8)"
   ]
  },
  {
   "cell_type": "code",
   "execution_count": 4,
   "metadata": {},
   "outputs": [],
   "source": [
    "S = np.exp(a/v)*np.exp(b*(v**2))"
   ]
  },
  {
   "cell_type": "code",
   "execution_count": 5,
   "metadata": {},
   "outputs": [
    {
     "data": {
      "image/png": "[encoded data removed]",
      "text/plain": [
       "<Figure size 864x432 with 1 Axes>"
      ]
     },
     "metadata": {
      "needs_background": "light"
     },
     "output_type": "display_data"
    }
   ],
   "source": [
    "plt.figure(figsize=(12,6))\n",
    "plt.plot(v,S)\n",
    "plt.xlabel('v')\n",
    "plt.ylabel(r'$\\mathscr{S}$')\n",
    "plt.grid()\n",
    "plt.show()"
   ]
  },
  {
   "cell_type": "code",
   "execution_count": 6,
   "metadata": {},
   "outputs": [],
   "source": [
    "v_num_p = v[np.where(S==S.max())][0]"
   ]
  },
  {
   "cell_type": "code",
   "execution_count": 7,
   "metadata": {},
   "outputs": [
    {
     "data": {
      "text/plain": [
       "131431458.61041556"
      ]
     },
     "execution_count": 7,
     "metadata": {},
     "output_type": "execute_result"
    }
   ],
   "source": [
    "v_p"
   ]
  },
  {
   "cell_type": "code",
   "execution_count": 8,
   "metadata": {},
   "outputs": [
    {
     "data": {
      "text/plain": [
       "131431459.31993355"
      ]
     },
     "execution_count": 8,
     "metadata": {},
     "output_type": "execute_result"
    }
   ],
   "source": [
    "v_num_p"
   ]
  },
  {
   "cell_type": "code",
   "execution_count": 9,
   "metadata": {},
   "outputs": [],
   "source": [
    "error = (v_num_p-v_p)/v_p"
   ]
  },
  {
   "cell_type": "code",
   "execution_count": 10,
   "metadata": {},
   "outputs": [
    {
     "data": {
      "text/plain": [
       "5.3983878219405564e-09"
      ]
     },
     "execution_count": 10,
     "metadata": {},
     "output_type": "execute_result"
    }
   ],
   "source": [
    "error"
   ]
  },
  {
   "cell_type": "code",
   "execution_count": null,
   "metadata": {},
   "outputs": [],
   "source": []
  }
 ],
 "metadata": {
  "kernelspec": {
   "display_name": "Python 3",
   "language": "python",
   "name": "python3"
  },
  "language_info": {
   "codemirror_mode": {
    "name": "ipython",
    "version": 3
   },
   "file_extension": ".py",
   "mimetype": "text/x-python",
   "name": "python",
   "nbconvert_exporter": "python",
   "pygments_lexer": "ipython3",
   "version": "3.7.2"
  }
 },
 "nbformat": 4,
 "nbformat_minor": 2
}
