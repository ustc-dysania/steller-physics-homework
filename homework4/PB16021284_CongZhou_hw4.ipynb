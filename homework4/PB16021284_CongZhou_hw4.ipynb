{
 "cells": [
  {
   "cell_type": "markdown",
   "metadata": {},
   "source": [
    "# 第四次编程作业"
   ]
  },
  {
   "cell_type": "markdown",
   "metadata": {},
   "source": [
    "Lane-Emden equation of index n: $\\frac{1}{\\xi^2}\\frac{d}{d\\xi}\\left(\\xi^2\\frac{d\\theta}{d\\xi}\\right)=-\\theta^n$  \n",
    "$\\Rightarrow\\frac{1}{\\xi^2}\\left(2\\xi\\frac{d\\theta}{d\\xi}+\\xi^2\\frac{d^2\\theta}{d\\xi^2}\\right)=-\\theta^n$  \n",
    "$\\Rightarrow\\frac{d^2\\theta}{d\\xi^2}+\\frac{2}{\\xi}\\frac{d\\theta}{d\\xi}=-\\theta^n$"
   ]
  },
  {
   "cell_type": "markdown",
   "metadata": {},
   "source": [
    "将二阶方程化为一阶方程组：  \n",
    "$\\begin{cases}\\frac{d\\theta}{d\\xi}=\\theta^{\\prime}(\\xi) \\\\\n",
    "\\frac{d\\theta^{\\prime}}{d\\xi}=-\\theta^n-\\frac{2}{\\xi}\\theta^{\\prime}=f\\left(\\xi,\\theta,\\theta^{\\prime}\\right) \\\\\n",
    "\\theta(\\xi=0) = 1 \\\\\n",
    "\\theta^{\\prime}(\\xi=0)=\\frac{d\\theta}{d\\xi}|_{\\xi=0}=0\\end{cases}$"
   ]
  },
  {
   "cell_type": "markdown",
   "metadata": {},
   "source": [
    "预估-校正公式:  \n",
    "$\\begin{pmatrix} \\bar{\\theta}_{n+1}\\\\ \\bar{\\theta^{\\prime}}_{n+1} \\end{pmatrix}=\\begin{pmatrix} \\theta_{n}\\\\ \\theta^{\\prime}_{n}\\end{pmatrix}+h\\begin{pmatrix} \\theta^{\\prime}_{n} \\\\ f\\left(\\xi_{n},\\theta_{n},\\theta^{\\prime}_{n}\\right)\\end{pmatrix}$  \n",
    "$\\begin{pmatrix} \\theta_{n+1} \\\\ \\theta^{\\prime}_{n+1}\\end{pmatrix}=\\begin{pmatrix} \\theta_{n} \\\\ \\theta^{\\prime}_{n}\\end{pmatrix}+\\frac{h}{2}\\Biggl[\\begin{pmatrix} \\theta^{\\prime}_{n} \\\\ f\\left(\\xi_{n},\\theta_{n},\\theta^{\\prime}_{n}\\right)\\end{pmatrix}+\\begin{pmatrix} \\bar{\\theta^{\\prime}}_{n+1} \\\\ f\\left(\\xi_{n+1},\\bar{\\theta}_{n+1},\\bar{\\theta^{\\prime}}_{n+1}\\right) \\end{pmatrix}\\Biggr]$"
   ]
  },
  {
   "cell_type": "code",
   "execution_count": 1,
   "metadata": {},
   "outputs": [],
   "source": [
    "import numpy as np\n",
    "import matplotlib.pyplot as plt"
   ]
  },
  {
   "cell_type": "code",
   "execution_count": 2,
   "metadata": {},
   "outputs": [],
   "source": [
    "def f(n,xi,theta,thetapr):\n",
    "    h = 1e-10\n",
    "    if xi==0:#xi=0时会出现0/0\n",
    "        val = -np.power(theta,n)-2./(xi+h)*thetapr\n",
    "    else:\n",
    "        val = -np.power(theta,n)-2./xi*thetapr\n",
    "    return val"
   ]
  },
  {
   "cell_type": "code",
   "execution_count": 3,
   "metadata": {},
   "outputs": [],
   "source": [
    "xi = np.array([0])\n",
    "theta = np.array([1])\n",
    "thetapr = np.array([0])\n",
    "h = 0.01\n"
   ]
  },
  {
   "cell_type": "markdown",
   "metadata": {},
   "source": [
    "$r=\\alpha\\xi, R = \\alpha\\xi_{1}\\quad\\Rightarrow \\quad\\frac{r}{R}=\\frac{\\xi}{\\xi_{1}}$  \n",
    "$\\rho = \\rho_{c}\\theta^{n}\\quad\\Rightarrow\\quad \\frac{\\rho}{\\rho_{c}}=\\theta^{n}$"
   ]
  },
  {
   "cell_type": "code",
   "execution_count": 4,
   "metadata": {},
   "outputs": [
    {
     "name": "stderr",
     "output_type": "stream",
     "text": [
      "/usr/local/lib/python3.7/site-packages/ipykernel_launcher.py:6: RuntimeWarning: invalid value encountered in power\n",
      "  \n"
     ]
    }
   ],
   "source": [
    "n = 1.5\n",
    "i = 0\n",
    "while theta[i]>=0:\n",
    "    xi = np.append(xi,xi[-1]+h)\n",
    "    a = f(n,xi[i],theta[i],thetapr[i])\n",
    "    #预估\n",
    "    theta_bar = theta[i]+h*thetapr[i]\n",
    "    thetapr_bar = thetapr[i]+h*a\n",
    "    #校正\n",
    "    theta_p = theta[i]+h/2.*(thetapr[i]+thetapr_bar)\n",
    "    thetapr_p = thetapr[i]+h/2.*(a+f(n,xi[i+1],theta_bar,thetapr_bar))\n",
    "    theta = np.append(theta,theta_p)\n",
    "    thetapr = np.append(thetapr,thetapr_p)\n",
    "    i = i + 1\n",
    "x_1h = xi[:-1]/xi[-1]\n",
    "y_1h_raw = theta[:-1]\n",
    "y_1h = np.power(y_1h_raw,n)\n"
   ]
  },
  {
   "cell_type": "code",
   "execution_count": 5,
   "metadata": {},
   "outputs": [
    {
     "name": "stderr",
     "output_type": "stream",
     "text": [
      "/usr/local/lib/python3.7/site-packages/ipykernel_launcher.py:3: RuntimeWarning: invalid value encountered in power\n",
      "  This is separate from the ipykernel package so we can avoid doing imports until\n"
     ]
    }
   ],
   "source": [
    "xi_1 = xi[-2]\n",
    "thetapr_xi_1 =thetapr[-2] \n",
    "B = 1/(n+1)*np.power(xi_1,-4./3)*np.power(thetapr_xi_1,-2./3)"
   ]
  },
  {
   "cell_type": "code",
   "execution_count": 6,
   "metadata": {},
   "outputs": [],
   "source": [
    "xi = np.array([0])\n",
    "theta = np.array([1])\n",
    "thetapr = np.array([0])\n",
    "n = 3\n",
    "i = 0\n",
    "while theta[i]>=0:\n",
    "    xi = np.append(xi,xi[-1]+h)\n",
    "    a = f(n,xi[i],theta[i],thetapr[i])\n",
    "    #预估\n",
    "    theta_bar = theta[i]+h*thetapr[i]\n",
    "    thetapr_bar = thetapr[i]+h*a\n",
    "    #校正\n",
    "    theta_p = theta[i]+h/2.*(thetapr[i]+thetapr_bar)\n",
    "    thetapr_p = thetapr[i]+h/2.*(a+f(n,xi[i+1],theta_bar,thetapr_bar))\n",
    "    theta = np.append(theta,theta_p)\n",
    "    thetapr = np.append(thetapr,thetapr_p)\n",
    "    i = i + 1\n",
    "x_3 = xi[:-1]/xi[-1]\n",
    "y_3_raw = theta[:-1]\n",
    "y_3 = np.power(y_3_raw,n)\n"
   ]
  },
  {
   "cell_type": "code",
   "execution_count": 7,
   "metadata": {},
   "outputs": [
    {
     "data": {
      "image/png": "[encoded data removed]",
      "text/plain": [
       "<Figure size 576x576 with 1 Axes>"
      ]
     },
     "metadata": {
      "needs_background": "light"
     },
     "output_type": "display_data"
    }
   ],
   "source": [
    "plt.figure(figsize=(8,8))\n",
    "plt.plot(x_1h, y_1h, color='r', label='n=1.5')\n",
    "plt.plot(x_3, y_3, color='b', label='n=3')\n",
    "plt.xlabel(r'$\\frac{r}{R}$', fontsize=18)\n",
    "plt.ylabel(r'$\\frac{\\rho}{\\rho_{c}}$',fontsize=18)\n",
    "plt.legend()\n",
    "plt.grid()\n",
    "plt.show()"
   ]
  },
  {
   "cell_type": "markdown",
   "metadata": {},
   "source": [
    "发现上图和课本图5.1并不一样，感觉似乎课本上的纵坐标是$\\theta$，忘记了计算n次方，尝试后果然感觉很可能是这样"
   ]
  },
  {
   "cell_type": "code",
   "execution_count": 8,
   "metadata": {},
   "outputs": [
    {
     "data": {
      "image/png": "[encoded data removed]",
      "text/plain": [
       "<Figure size 576x576 with 1 Axes>"
      ]
     },
     "metadata": {
      "needs_background": "light"
     },
     "output_type": "display_data"
    }
   ],
   "source": [
    "plt.figure(figsize=(8,8))\n",
    "plt.plot(x_1h, y_1h_raw, color='r', label='n=1.5')\n",
    "plt.plot(x_3, y_3_raw, color='b', label='n=3')\n",
    "plt.xlabel(r'$\\frac{r}{R}$', fontsize=18)\n",
    "plt.ylabel(r'$\\frac{\\rho}{\\rho_{c}}$',fontsize=18)\n",
    "plt.legend()\n",
    "plt.grid()\n",
    "plt.title('textbook fig 5.1')\n",
    "plt.show()"
   ]
  },
  {
   "cell_type": "markdown",
   "metadata": {},
   "source": [
    "$\\begin{cases}P_{c}=\\frac{(4\\pi G)^{\\frac{1}{n}}}{n+1}\\left(\\frac{GM}{M_{n}}\\right)^{\\frac{n-1}{n}}\\left(\\frac{R}{R_{n}}\\right)^{\\frac{3-n}{n}}\\rho_{c}^{\\frac{n+1}{n}}\\\\  \n",
    "\\rho_{c}=D_{n}\\frac{M}{\\frac{4\\pi}{3}R^{3}}\\end{cases}$  \n",
    "$\\Rightarrow P_{c}=(4\\pi)^{\\frac{1}{3}}GM^{\\frac{2}{3}}\\rho_{c}^{\\frac{4}{3}}\\frac{1}{n+1}\\left(M_{n}\\right)^{\\frac{1-n}{n}}\\left(R_{n}\\right)^{\\frac{n-3}{n}}\\left(3D_{n}\\right)^{\\frac{3-n}{3n}}$  \n",
    "再将$D_{n},M_{n},R_{n}$表达式带入可得$B_{n}$:  \n",
    "$\\begin{align*}B_{n}&=-\\frac{1}{n+1}\\left[\\xi_{1}^2\\left(\\frac{d\\theta}{d\\xi}_{\\xi_{1}}\\right)\\right]^{\\frac{1-n}{n}}\\xi_{1}^{\\frac{n-3}{n}}\\left[\\frac{1}{\\xi_{1}}\\left(\\frac{d\\theta}{d\\xi}\\right)_{\\xi_{1}}\\right]^{\\frac{n-3}{3n}}\\\\\n",
    "&=-\\frac{1}{n+1}\\xi_{1}^{-\\frac{4}{3}}\\left(\\frac{d\\theta}{d\\xi}\\right)^{-\\frac{2}{3}}_{\\xi_{1}}\\end{align*}$"
   ]
  },
  {
   "cell_type": "markdown",
   "metadata": {},
   "source": [
    "$\\begin{cases}\n",
    "D_{n}=-\\left[\\frac{3}{\\xi_{1}}\\left(\\frac{d\\theta}{d\\xi}\\right)_{\\xi_{1}}\\right]^{-1}\\\\\n",
    "M_{n}=-\\xi_{1}^2\\left(\\frac{d\\theta}{d\\xi}\\right)_{\\xi_{1}}\\\\\n",
    "R_{n}=\\xi_{1}\\\\\n",
    "B_{n}=-\\frac{1}{n+1}\\xi_{1}^{-\\frac{4}{3}}\\left(\\frac{d\\theta}{d\\xi}\\right)^{-\\frac{2}{3}}_{\\xi_{1}}\\end{cases}$"
   ]
  },
  {
   "cell_type": "code",
   "execution_count": 9,
   "metadata": {},
   "outputs": [],
   "source": [
    "n_set = np.array([1.0,1.5,2.0,2.5,3.0,3.5])\n",
    "D_n = np.zeros(6)\n",
    "M_n = np.zeros(6)\n",
    "R_n = np.zeros(6)\n",
    "B_n = np.zeros(6)"
   ]
  },
  {
   "cell_type": "code",
   "execution_count": 10,
   "metadata": {},
   "outputs": [
    {
     "name": "stderr",
     "output_type": "stream",
     "text": [
      "/usr/local/lib/python3.7/site-packages/ipykernel_launcher.py:6: RuntimeWarning: invalid value encountered in power\n",
      "  \n"
     ]
    }
   ],
   "source": [
    "j = 0\n",
    "for n in n_set:\n",
    "    xi = np.array([0])\n",
    "    theta = np.array([1])\n",
    "    thetapr = np.array([0])\n",
    "    i = 0\n",
    "    while theta[i]>=0:\n",
    "        xi = np.append(xi,xi[-1]+h)\n",
    "        a = f(n,xi[i],theta[i],thetapr[i])\n",
    "        #预估\n",
    "        theta_bar = theta[i]+h*thetapr[i]\n",
    "        thetapr_bar = thetapr[i]+h*a\n",
    "        #校正\n",
    "        theta_p = theta[i]+h/2.*(thetapr[i]+thetapr_bar)\n",
    "        thetapr_p = thetapr[i]+h/2.*(a+f(n,xi[i+1],theta_bar,thetapr_bar))\n",
    "        theta = np.append(theta,theta_p)\n",
    "        thetapr = np.append(thetapr,thetapr_p)\n",
    "        i = i + 1\n",
    "    xi_1 = xi[-2]\n",
    "    thetapr_xi_1 = -thetapr[-2] #单调减函数，一阶导恒小于0\n",
    "    D_n[j] = xi_1/3/thetapr_xi_1\n",
    "    M_n[j] = (xi_1**2)*thetapr_xi_1\n",
    "    R_n[j] = xi_1\n",
    "    B_n[j] = 1/(n+1)*np.power(xi_1,-4./3)*np.power(thetapr_xi_1,-2./3)\n",
    "    j = j+1\n",
    "    "
   ]
  },
  {
   "cell_type": "code",
   "execution_count": 11,
   "metadata": {},
   "outputs": [
    {
     "name": "stdout",
     "output_type": "stream",
     "text": [
      "D_1.0=3.28494008717697\t\n",
      "M_1.0=3.1415229479984386\t\n",
      "R_1.0=3.139999999999977\t\n",
      "B_1.0=0.23310048654956714\n",
      "\n",
      "D_1.5=5.972312774083133\t\n",
      "M_1.5=2.7140309424190567\t\n",
      "R_1.5=3.649999999999966\t\n",
      "B_1.5=0.20558123066016748\n",
      "\n",
      "D_2.0=11.380016362048105\t\n",
      "M_2.0=2.4110356371281205\t\n",
      "R_2.0=4.349999999999952\t\n",
      "B_2.0=0.18538574027587443\n",
      "\n",
      "D_2.5=23.337364704926504\t\n",
      "M_2.5=2.1871988966498903\t\n",
      "R_2.5=5.34999999999993\t\n",
      "B_2.5=0.16956638840343055\n",
      "\n",
      "D_3.0=54.02103865671657\t\n",
      "M_3.0=2.0182431211567633\t\n",
      "R_3.0=6.8899999999998975\t\n",
      "B_3.0=0.15653964864760037\n",
      "\n",
      "D_3.5=152.60350061254525\t\n",
      "M_3.5=1.890570822481739\t\n",
      "R_3.5=9.529999999999841\t\n",
      "B_3.5=0.1453423525481875\n",
      "\n"
     ]
    }
   ],
   "source": [
    "i = 0\n",
    "for n in n_set:\n",
    "    print('D_{}={}\\t'.format(n,D_n[i]))\n",
    "    print('M_{}={}\\t'.format(n,M_n[i]))\n",
    "    print('R_{}={}\\t'.format(n,R_n[i]))\n",
    "    print('B_{}={}\\n'.format(n,B_n[i]))\n",
    "    i = i+1"
   ]
  },
  {
   "cell_type": "markdown",
   "metadata": {},
   "source": [
    "|n|$D_{n}$|$M_{n}$|$R_{n}$|$B_{n}$|\n",
    "|:--:|:--:|:--:|:--:|:--:|\n",
    "|1.0|3.285|3.14|3.14|0.233|\n",
    "|1.5|5.972|2.71|3.65|0.206|\n",
    "|2.0|11.38|2.41|4.35|0.185|\n",
    "|2.5|23.34|2.19|5.35|0.170|\n",
    "|3.0|54.02|2.02|6.89|0.157|\n",
    "|3.5|152.6|1.89|9.53|0.15|"
   ]
  }
 ],
 "metadata": {
  "kernelspec": {
   "display_name": "Python 3",
   "language": "python",
   "name": "python3"
  },
  "language_info": {
   "codemirror_mode": {
    "name": "ipython",
    "version": 3
   },
   "file_extension": ".py",
   "mimetype": "text/x-python",
   "name": "python",
   "nbconvert_exporter": "python",
   "pygments_lexer": "ipython3",
   "version": "3.7.2"
  }
 },
 "nbformat": 4,
 "nbformat_minor": 2
}
